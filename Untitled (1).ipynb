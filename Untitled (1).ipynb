{
 "cells": [
  {
   "cell_type": "code",
   "execution_count": 1,
   "id": "5e966ab1",
   "metadata": {},
   "outputs": [],
   "source": [
    "import pandas as pd\n",
    "import numpy as np\n",
    "import seaborn as sns\n",
    "import matplotlib.pyplot as plt"
   ]
  },
  {
   "cell_type": "markdown",
   "id": "34d0ceeb",
   "metadata": {},
   "source": [
    "# Cell types"
   ]
  },
  {
   "cell_type": "code",
   "execution_count": 2,
   "id": "beb85f33",
   "metadata": {},
   "outputs": [],
   "source": [
    "cts=['Brain_Hypothalamus', 'Brain_Frontal_Cortex_BA9', 'Artery_Coronary', 'Brain_Hippocampus', 'Brain_Substantia_nigra',\n",
    " 'Heart_Left_Ventricle', 'Minor_Salivary_Gland', 'Vagina', 'Brain_Amygdala', 'Brain_Nucleus_accumbens_basal_ganglia',\n",
    "    'Muscle_Skeletal', 'Brain_Caudate_basal_ganglia', 'Liver', 'Esophagus_Muscularis', 'Artery_Aorta', 'Lung',\n",
    " 'Colon_Transverse', 'Brain_Cortex', 'Uterus', 'Spleen', 'Cells_Cultured_fibroblasts', 'Pituitary', 'Small_Intestine_Terminal_Ileum',\n",
    " 'Brain_Anterior_cingulate_cortex_BA24', 'Adipose_Visceral_Omentum', 'Skin_Not_Sun_Exposed_Suprapubic', 'Brain_Putamen_basal_ganglia',\n",
    " 'Stomach', 'Adrenal_Gland', 'Brain_Cerebellar_Hemisphere', 'Breast_Mammary_Tissue', 'Esophagus_Mucosa', 'Nerve_Tibial',\n",
    " 'Skin_Sun_Exposed_Lower_leg', 'Kidney_Cortex', 'Brain_Spinal_cord_cervical_c-1', 'Adipose_Subcutaneous', 'Colon_Sigmoid',\n",
    " 'Pancreas', 'Artery_Tibial', 'Cells_EBV-transformed_lymphocytes', 'Heart_Atrial_Appendage', 'Esophagus_Gastroesophageal_Junction',\n",
    " 'Testis', 'Thyroid', 'Ovary', 'Prostate', 'Whole_Blood', 'Brain_Cerebellum']"
   ]
  },
  {
   "cell_type": "markdown",
   "id": "93a928ed",
   "metadata": {},
   "source": [
    "# The negative data set"
   ]
  },
  {
   "cell_type": "code",
   "execution_count": 106,
   "id": "3b2658b3",
   "metadata": {},
   "outputs": [],
   "source": [
    "# Specify cell type\n",
    "ct='Liver'"
   ]
  },
  {
   "cell_type": "code",
   "execution_count": 108,
   "id": "63cb0c24",
   "metadata": {},
   "outputs": [],
   "source": [
    "sign=pd.read_csv(f'/home/icb/manuel.gander/eQTL_data/Negs/{ct}.v8.signif_variant_gene_pairs.txt/{ct}.signifpairs.txt', sep='\\t')\n",
    "alls=pd.read_csv(f'/home/icb/manuel.gander/eQTL_data/Negs/{ct}.v8.egenes.txt', sep='\\t')"
   ]
  },
  {
   "cell_type": "markdown",
   "id": "3fcab085",
   "metadata": {},
   "source": [
    "# The positive data set"
   ]
  },
  {
   "cell_type": "code",
   "execution_count": 111,
   "id": "5bdd6b74",
   "metadata": {
    "scrolled": true
   },
   "outputs": [],
   "source": [
    "pos=pd.read_csv('/home/icb/manuel.gander/eQTL_data/Poss/GTEx_v8_finemapping_DAPG.txt', sep='\\t')"
   ]
  },
  {
   "cell_type": "markdown",
   "id": "7110f886",
   "metadata": {},
   "source": [
    "# Intersect pos and neg"
   ]
  },
  {
   "cell_type": "code",
   "execution_count": 113,
   "id": "2a585e29",
   "metadata": {},
   "outputs": [],
   "source": [
    "posct=pos[pos['tissue_id']==ct]"
   ]
  },
  {
   "cell_type": "markdown",
   "id": "1b3f67d4",
   "metadata": {},
   "source": [
    "# The positives"
   ]
  },
  {
   "cell_type": "code",
   "execution_count": null,
   "id": "8ad4e588",
   "metadata": {},
   "outputs": [],
   "source": [
    "# Only for a subset of signigificant variants the full information on slope/aFC,... is given. \n",
    "#Select this subset, it is still several thousand variants"
   ]
  },
  {
   "cell_type": "code",
   "execution_count": 183,
   "id": "2b473e63",
   "metadata": {},
   "outputs": [],
   "source": [
    "# Select all variants from the finemapping that are in .egenes\n",
    "\n",
    "inters=(np.intersect1d(posct['variant_id'].values,alls['variant_id'].values))\n",
    "\n",
    "poss=posct[posct['variant_id'].isin(inters)]\n",
    "allss=alls[alls['variant_id'].isin(inters)]"
   ]
  },
  {
   "cell_type": "code",
   "execution_count": 194,
   "id": "7ffa313a",
   "metadata": {},
   "outputs": [],
   "source": [
    "# Now, variants can be associated with different genes (rather uncommon (for something like 15% of the data)\n",
    "# For this, only select the entries where both variant_id and gene match"
   ]
  },
  {
   "cell_type": "code",
   "execution_count": 195,
   "id": "a4253dca",
   "metadata": {},
   "outputs": [],
   "source": [
    "def identify_matching(df0,df1):\n",
    "    frames=[]\n",
    "    for i in range(len(df0)):\n",
    "        gene,variant=df0.iloc[i][['gene_id','variant_id']]\n",
    "\n",
    "        dfs=df1[df1['variant_id']==variant]\n",
    "        dfs=dfs[dfs['gene_id']==gene]\n",
    "\n",
    "        if len(dfs)>0:\n",
    "            frames.append(dfs)\n",
    "        if len(dfs)>1:\n",
    "            print('More than one matching found!!!')\n",
    "    Df=pd.concat(frames)\n",
    "    Df.index=np.arange(len(Df))\n",
    "    return(Df)"
   ]
  },
  {
   "cell_type": "code",
   "execution_count": 196,
   "id": "cceb5d57",
   "metadata": {},
   "outputs": [],
   "source": [
    "allssp=identify_matching(poss,allss)"
   ]
  },
  {
   "cell_type": "code",
   "execution_count": 197,
   "id": "4ca3ef07",
   "metadata": {},
   "outputs": [],
   "source": [
    "possp=identify_matching(allssp,poss)"
   ]
  },
  {
   "cell_type": "code",
   "execution_count": 205,
   "id": "14ac9edf",
   "metadata": {},
   "outputs": [],
   "source": [
    "signsp=identify_matching(allssp,signs)"
   ]
  },
  {
   "cell_type": "code",
   "execution_count": 202,
   "id": "f630dc16",
   "metadata": {},
   "outputs": [
    {
     "data": {
      "text/plain": [
       "True"
      ]
     },
     "execution_count": 202,
     "metadata": {},
     "output_type": "execute_result"
    }
   ],
   "source": [
    "len(allssp)==len(possp)"
   ]
  },
  {
   "cell_type": "code",
   "execution_count": 211,
   "id": "b6c9d0d3",
   "metadata": {},
   "outputs": [],
   "source": [
    "# Select the 100 variants that have the lowest PIP in finemapping:"
   ]
  },
  {
   "cell_type": "code",
   "execution_count": 212,
   "id": "586cf80c",
   "metadata": {},
   "outputs": [
    {
     "data": {
      "text/plain": [
       "(1e-05, 1)"
      ]
     },
     "execution_count": 212,
     "metadata": {},
     "output_type": "execute_result"
    },
    {
     "data": {
      "image/png": "[encoded data removed]",
      "text/plain": [
       "<Figure size 432x288 with 1 Axes>"
      ]
     },
     "metadata": {
      "needs_background": "light"
     },
     "output_type": "display_data"
    }
   ],
   "source": [
    "sns.histplot(data=possp, x='variant_pip', log_scale=(True, False))\n",
    "plt.xlim(10**-5,1)"
   ]
  },
  {
   "cell_type": "code",
   "execution_count": 214,
   "id": "f19a7f3b",
   "metadata": {},
   "outputs": [],
   "source": [
    "posvars=possp.sort_values('variant_pip').iloc[:100]\n",
    "posids=list(posvars['variant_id'])\n",
    "\n",
    "# some variants are associated with several genes, for those pick the gene that was analyzed in the finemapping\n",
    "posgenes=list(posvars['gene_id'])"
   ]
  },
  {
   "cell_type": "code",
   "execution_count": 274,
   "id": "2690f324",
   "metadata": {
    "scrolled": true
   },
   "outputs": [],
   "source": [
    "pos_final=identify_matching(posvars,allssp)"
   ]
  },
  {
   "cell_type": "code",
   "execution_count": 275,
   "id": "f3de64c8",
   "metadata": {},
   "outputs": [
    {
     "data": {
      "text/plain": [
       "<AxesSubplot:xlabel='maf', ylabel='Count'>"
      ]
     },
     "execution_count": 275,
     "metadata": {},
     "output_type": "execute_result"
    },
    {
     "data": {
      "image/png": "[encoded data removed]",
      "text/plain": [
       "<Figure size 432x288 with 1 Axes>"
      ]
     },
     "metadata": {
      "needs_background": "light"
     },
     "output_type": "display_data"
    }
   ],
   "source": [
    "sns.histplot(pos_final['maf'], bins=np.linspace(0,0.5,21))"
   ]
  },
  {
   "cell_type": "code",
   "execution_count": 276,
   "id": "ad340df2",
   "metadata": {},
   "outputs": [
    {
     "data": {
      "text/plain": [
       "<AxesSubplot:xlabel='tss_distance', ylabel='Count'>"
      ]
     },
     "execution_count": 276,
     "metadata": {},
     "output_type": "execute_result"
    },
    {
     "data": {
      "image/png": "[encoded data removed]",
      "text/plain": [
       "<Figure size 432x288 with 1 Axes>"
      ]
     },
     "metadata": {
      "needs_background": "light"
     },
     "output_type": "display_data"
    }
   ],
   "source": [
    "sns.histplot(pos_final['tss_distance'], bins=np.linspace(-10**6,10**6,21))"
   ]
  },
  {
   "cell_type": "markdown",
   "id": "cccd4d5f",
   "metadata": {},
   "source": [
    "# The negatives"
   ]
  },
  {
   "cell_type": "code",
   "execution_count": 226,
   "id": "29f88618",
   "metadata": {},
   "outputs": [],
   "source": [
    "# Just pick some variants that are not in significant genes and not in the finemapping"
   ]
  },
  {
   "cell_type": "code",
   "execution_count": 229,
   "id": "1be80246",
   "metadata": {},
   "outputs": [],
   "source": [
    "varsign=list(sign['variant_id'])\n",
    "varfine=list(posct['variant_id'])\n",
    "\n",
    "comb=[*varsign, *varfine]"
   ]
  },
  {
   "cell_type": "code",
   "execution_count": 232,
   "id": "e524e64f",
   "metadata": {},
   "outputs": [],
   "source": [
    "negs=alls[~alls['variant_id'].isin(comb)]"
   ]
  },
  {
   "cell_type": "code",
   "execution_count": 234,
   "id": "0bcc8e31",
   "metadata": {},
   "outputs": [
    {
     "data": {
      "text/plain": [
       "<AxesSubplot:xlabel='maf', ylabel='Count'>"
      ]
     },
     "execution_count": 234,
     "metadata": {},
     "output_type": "execute_result"
    },
    {
     "data": {
      "image/png": "[encoded data removed]",
      "text/plain": [
       "<Figure size 432x288 with 1 Axes>"
      ]
     },
     "metadata": {
      "needs_background": "light"
     },
     "output_type": "display_data"
    }
   ],
   "source": [
    "sns.histplot(data=negs, x='maf', bins=np.linspace(0,0.5,101))"
   ]
  },
  {
   "cell_type": "code",
   "execution_count": 243,
   "id": "74a59b0f",
   "metadata": {},
   "outputs": [],
   "source": [
    "# Select some that have maf >0.3"
   ]
  },
  {
   "cell_type": "code",
   "execution_count": 257,
   "id": "d56f895b",
   "metadata": {},
   "outputs": [],
   "source": [
    "negsp=negs[negs['maf']>0.3]"
   ]
  },
  {
   "cell_type": "code",
   "execution_count": 246,
   "id": "2c596ad9",
   "metadata": {},
   "outputs": [
    {
     "data": {
      "text/plain": [
       "<AxesSubplot:xlabel='tss_distance', ylabel='Count'>"
      ]
     },
     "execution_count": 246,
     "metadata": {},
     "output_type": "execute_result"
    },
    {
     "data": {
      "image/png": "[encoded data removed]",
      "text/plain": [
       "<Figure size 432x288 with 1 Axes>"
      ]
     },
     "metadata": {
      "needs_background": "light"
     },
     "output_type": "display_data"
    }
   ],
   "source": [
    "sns.histplot(data=negs, x='tss_distance', bins=np.linspace(-10**6,10**6,21))"
   ]
  },
  {
   "cell_type": "code",
   "execution_count": 247,
   "id": "b5f1ccd3",
   "metadata": {},
   "outputs": [],
   "source": [
    "# Select some that have tss_distance in [-0.15,0.15]*10**6"
   ]
  },
  {
   "cell_type": "code",
   "execution_count": 253,
   "id": "874a4ab5",
   "metadata": {},
   "outputs": [],
   "source": [
    "interval=np.array([-0.15,0.15])*10**6"
   ]
  },
  {
   "cell_type": "code",
   "execution_count": 258,
   "id": "7c11b410",
   "metadata": {},
   "outputs": [],
   "source": [
    "negspp=negsp[negsp['tss_distance'].between(interval[0],interval[1])]"
   ]
  },
  {
   "cell_type": "code",
   "execution_count": 261,
   "id": "3fed31d4",
   "metadata": {},
   "outputs": [],
   "source": [
    "# Double check everything:"
   ]
  },
  {
   "cell_type": "code",
   "execution_count": 263,
   "id": "873d412f",
   "metadata": {},
   "outputs": [
    {
     "data": {
      "text/plain": [
       "<AxesSubplot:xlabel='maf', ylabel='Count'>"
      ]
     },
     "execution_count": 263,
     "metadata": {},
     "output_type": "execute_result"
    },
    {
     "data": {
      "image/png": "[encoded data removed]",
      "text/plain": [
       "<Figure size 432x288 with 1 Axes>"
      ]
     },
     "metadata": {
      "needs_background": "light"
     },
     "output_type": "display_data"
    }
   ],
   "source": [
    "sns.histplot(data=negspp, x='maf', bins=np.linspace(0,0.5,21))"
   ]
  },
  {
   "cell_type": "code",
   "execution_count": 264,
   "id": "1b2e5e11",
   "metadata": {},
   "outputs": [
    {
     "data": {
      "text/plain": [
       "<AxesSubplot:xlabel='tss_distance', ylabel='Count'>"
      ]
     },
     "execution_count": 264,
     "metadata": {},
     "output_type": "execute_result"
    },
    {
     "data": {
      "image/png": "[encoded data removed]",
      "text/plain": [
       "<Figure size 432x288 with 1 Axes>"
      ]
     },
     "metadata": {
      "needs_background": "light"
     },
     "output_type": "display_data"
    }
   ],
   "source": [
    "sns.histplot(data=negspp, x='tss_distance', bins=np.linspace(-10**6,10**6,21))"
   ]
  },
  {
   "cell_type": "code",
   "execution_count": 268,
   "id": "e4acbd0b",
   "metadata": {},
   "outputs": [],
   "source": [
    "# Looks alrigh-ish, let's select 100 variants from this randomly:"
   ]
  },
  {
   "cell_type": "code",
   "execution_count": null,
   "id": "d10ab45b",
   "metadata": {},
   "outputs": [],
   "source": []
  },
  {
   "cell_type": "code",
   "execution_count": 272,
   "id": "b9444507",
   "metadata": {},
   "outputs": [],
   "source": [
    "negs_final=negspp.sample(100)"
   ]
  },
  {
   "cell_type": "markdown",
   "id": "6ef28584",
   "metadata": {},
   "source": [
    "# Save the result"
   ]
  },
  {
   "cell_type": "code",
   "execution_count": 281,
   "id": "d0b702ac",
   "metadata": {
    "scrolled": true
   },
   "outputs": [],
   "source": [
    "negs_final.to_pickle(f'/home/icb/manuel.gander/eQTL_data/negs_final.pkl')\n",
    "pos_final.to_pickle(f'/home/icb/manuel.gander/eQTL_data/pos_final.pkl')\n",
    "posvars.to_pickle(f'/home/icb/manuel.gander/eQTL_data/pos_final_finemapping.pkl')"
   ]
  },
  {
   "cell_type": "code",
   "execution_count": null,
   "id": "a003587a",
   "metadata": {},
   "outputs": [],
   "source": []
  },
  {
   "cell_type": "code",
   "execution_count": null,
   "id": "71e23a71",
   "metadata": {},
   "outputs": [],
   "source": []
  },
  {
   "cell_type": "code",
   "execution_count": 282,
   "id": "b5e31b36",
   "metadata": {},
   "outputs": [],
   "source": [
    "# Therfore run eve with the following variants:"
   ]
  },
  {
   "cell_type": "code",
   "execution_count": 299,
   "id": "f173e79d",
   "metadata": {
    "scrolled": true
   },
   "outputs": [],
   "source": [
    "neg_variants=list(negs_final['variant_id'])\n",
    "pos_variants=list(pos_final['variant_id'])"
   ]
  },
  {
   "cell_type": "code",
   "execution_count": 300,
   "id": "302fef81",
   "metadata": {},
   "outputs": [],
   "source": [
    "def var_to_csv_input(var):\n",
    "    l=[]\n",
    "    for i in var:\n",
    "        p=i.split('_')\n",
    "        s=p[0][3:]+','+p[1]+','+p[2]+','+p[3]\n",
    "        l.append(s)\n",
    "    return(l)"
   ]
  },
  {
   "cell_type": "code",
   "execution_count": 302,
   "id": "8cc9c1a2",
   "metadata": {},
   "outputs": [],
   "source": [
    "l=var_to_csv_input(neg_variants)\n",
    "df = pd.DataFrame(data={'l':l})\n",
    "df.to_csv(f'/home/icb/manuel.gander/eQTL_data/negs_final.csv', sep='\\n',index=False)"
   ]
  },
  {
   "cell_type": "code",
   "execution_count": 303,
   "id": "fb2fd3c8",
   "metadata": {
    "scrolled": true
   },
   "outputs": [],
   "source": [
    "ll=var_to_csv_input(pos_variants)\n",
    "df = pd.DataFrame(data={'l':l})\n",
    "df.to_csv(f'/home/icb/manuel.gander/eQTL_data/pos_final.csv', sep='\\n',index=False)"
   ]
  },
  {
   "cell_type": "code",
   "execution_count": null,
   "id": "a5db01dd",
   "metadata": {},
   "outputs": [],
   "source": []
  },
  {
   "cell_type": "code",
   "execution_count": null,
   "id": "f11ea7f3",
   "metadata": {},
   "outputs": [],
   "source": []
  },
  {
   "cell_type": "code",
   "execution_count": null,
   "id": "b541673f",
   "metadata": {},
   "outputs": [],
   "source": []
  },
  {
   "cell_type": "code",
   "execution_count": null,
   "id": "a264251a",
   "metadata": {},
   "outputs": [],
   "source": []
  }
 ],
 "metadata": {
  "kernelspec": {
   "display_name": "m",
   "language": "python",
   "name": "m"
  },
  "language_info": {
   "codemirror_mode": {
    "name": "ipython",
    "version": 3
   },
   "file_extension": ".py",
   "mimetype": "text/x-python",
   "name": "python",
   "nbconvert_exporter": "python",
   "pygments_lexer": "ipython3",
   "version": "3.10.5"
  }
 },
 "nbformat": 4,
 "nbformat_minor": 5
}
